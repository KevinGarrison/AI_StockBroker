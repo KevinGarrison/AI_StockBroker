{
 "cells": [
  {
   "cell_type": "code",
   "execution_count": 1,
   "id": "244945fa",
   "metadata": {},
   "outputs": [],
   "source": [
    "import yfinance as yf"
   ]
  },
  {
   "cell_type": "code",
   "execution_count": 4,
   "id": "a9279289",
   "metadata": {},
   "outputs": [],
   "source": [
    "news = yf.Ticker('AAPL').get_news()"
   ]
  },
  {
   "cell_type": "code",
   "execution_count": null,
   "id": "b05bf0c6",
   "metadata": {},
   "outputs": [
    {
     "data": {
      "text/plain": [
       "10"
      ]
     },
     "execution_count": 9,
     "metadata": {},
     "output_type": "execute_result"
    }
   ],
   "source": [
    "news"
   ]
  },
  {
   "cell_type": "code",
   "execution_count": 16,
   "id": "827f5bce",
   "metadata": {},
   "outputs": [
    {
     "name": "stdout",
     "output_type": "stream",
     "text": [
      "( U.S. lawmakers have concerns about Apple-Alibaba deal )\n",
      "The Trump administration and congressional officials are scrutinizing a deal between Apple and Alibaba that would bring Alibaba-powered AI features to iPhones sold in China, according to The New York Times. Citing anonymous sources, the NYT says White House officials and members of the House Select Committee on China have asked Apple executives directly about the deal, with questions focused on what data would be shared with Alibaba and whether the company was making any commitments to Chinese r\n",
      "\n",
      "\n",
      "( Trump tariff uncertainty still makes earnings estimates and guidance useless )\n",
      "If investors are looking for thesis justification via earnings estimates and guidance, they shouldn't.\n",
      "\n",
      "\n",
      "( Big Tech Goes From Stock Market’s Safest Bet to Biggest Question )\n",
      "(Bloomberg) -- For most of the past decade, a handful of high-flying technology companies have pushed the US stock market to record highs and become cornerstones of investment portfolios. But that’s collapsed this year.Most Read from BloombergHow a Highway Became San Francisco’s Newest ParkMaryland’s Credit Rating Gets Downgraded as Governor Blames Trump America, ‘Nation of Porches’Power-Hungry Data Centers Are Warming Homes in the NordicsNJ Transit Train Engineers Strike, Disrupting Travel to N\n",
      "\n",
      "\n",
      "( Wedbush: Apple (AAPL) Eyes India as Key iPhone Hub )\n",
      "We recently published a list of 10 Trending AI Stocks on Wall Street Right Now. In this article, we are going to take a look at where Apple Inc. (NASDAQ:AAPL) stands against other trending AI stocks on Wall Street right now. US President Donald Trump wrapped up his tour of the Middle East today, concluding […]\n",
      "\n",
      "\n",
      "( Dan Ives Says U.S.-China Tariff Pause Is a \"Dream Scenario\" for Apple. Is This the Buy Signal Investors Were Waiting For? )\n",
      "Wedbush analyst Dan Ives believes the recent progress in the U.S.-China trade talks is a bullish sign for Apple.  Apple investors are likely breathing a sigh of relief, given the amount of manufacturing Apple does in China.  The state of Apple stock could negate any benefits from a U.S.-China trade agreement.\n",
      "\n",
      "\n",
      "( 32.9% of Warren Buffett's $286 Billion Portfolio Is Invested in 3 Artificial Intelligence (AI) Stocks )\n",
      "Warren Buffett has steered the Berkshire Hathaway to market-crushing returns since 1965.  On May 3, Warren Buffett announced he will step down from his role as the CEO of the Berkshire Hathaway holding company at the end of 2025.  In other words, an investment of $1,000 in Berkshire stock in 1965 would have been worth a whopping $44.7 million at the end of 2024.\n",
      "\n",
      "\n",
      "( Prediction: This Will Be Wall Street's First $10 Trillion Company -- And It's Not Apple )\n",
      "Amazon's two growth segments can help propel it to a $10 trillion market cap.  Compared to other big tech competitors, it has more room to expand profit margins in the next decade.  It will take a long time, but the math shows how Amazon's financials can support a $10 trillion valuation eventually.\n",
      "\n",
      "\n",
      "( Apple Is Threatening to Challenge Alphabet's Empire: Is the Stock a Buy? )\n",
      "Apple could be looking to reinvent its Safari search engine through AI.  Apple (NASDAQ: AAPL) has faced a wave of headwinds this year, including the prospects of higher costs, thanks to President Trump's tariff policies.\n",
      "\n",
      "\n",
      "( Beyond Nvidia, Four Things to Know at Asia’s Biggest Tech Show )\n",
      "(Bloomberg) -- Nvidia Corp.’s Jensen Huang headlines the 2025 edition of Asia’s biggest electronics conference, for years a showcase for his company’s cutting-edge AI chips and the companies lining up to buy them. This year, however, the spotlight may well be on another far bigger personality: US President Donald Trump.Most Read from BloombergHow a Highway Became San Francisco’s Newest ParkMaryland’s Credit Rating Gets Downgraded as Governor Blames Trump America, ‘Nation of Porches’Power-Hungry\n",
      "\n",
      "\n",
      "( Apple iPhone Production In US 'Not Feasible,' Says Tech Bull After Donald Trump Tells Tim Cook To Stay Out Of India )\n",
      "Wedbush analyst, Dan Ives anticipates that Apple Inc. (NASDAQ:AAPL) could increase its iPhone assembly production in India to 60%-65% by fall, depending on tariff negotiations. What Happened: On Friday, Ives posted his views on X that Apple could significantly ramp up its iPhone assembly in India in a best-case scenario. However, he also noted that the tech giant could revert to a China-driven iPhone strategy depending on the tariff situation and deal negotiations. He added that U.S. iPhone prod\n",
      "\n",
      "\n"
     ]
    }
   ],
   "source": [
    "for i in news:\n",
    "    print('(', i['content']['title'],')')\n",
    "    print(i['content']['summary'])\n",
    "    print()\n",
    "    print()"
   ]
  },
  {
   "cell_type": "code",
   "execution_count": null,
   "id": "b6f17a55",
   "metadata": {},
   "outputs": [],
   "source": []
  }
 ],
 "metadata": {
  "kernelspec": {
   "display_name": ".venv",
   "language": "python",
   "name": "python3"
  },
  "language_info": {
   "codemirror_mode": {
    "name": "ipython",
    "version": 3
   },
   "file_extension": ".py",
   "mimetype": "text/x-python",
   "name": "python",
   "nbconvert_exporter": "python",
   "pygments_lexer": "ipython3",
   "version": "3.12.10"
  }
 },
 "nbformat": 4,
 "nbformat_minor": 5
}
