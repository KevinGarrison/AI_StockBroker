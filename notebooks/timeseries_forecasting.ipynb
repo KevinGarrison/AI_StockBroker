{
 "cells": [
  {
   "cell_type": "markdown",
   "metadata": {},
   "source": [
    "# 📊 Stock forecast & trading strategy with Nixtla & yFinance\n",
    "\n",
    "This notebook shows how to analyze historical stock market data using yFinance and the Nixtla framework to derive a simple trading strategy. \n",
    "\n",
    "We use:\n",
    "- `yFinance` to retrieve financial data\n",
    "- `NeuralForecast` (RNN) for price prediction\n",
    "- Fundamental data for decision support"
   ]
  },
  {
   "cell_type": "markdown",
   "metadata": {},
   "source": [
    "# Setup & Imports"
   ]
  },
  {
   "cell_type": "code",
   "execution_count": null,
   "metadata": {},
   "outputs": [
    {
     "name": "stdout",
     "output_type": "stream",
     "text": [
      "Warning - Certain functionality \n",
      "             requires requests_html, which is not installed.\n",
      "             \n",
      "             Install using: \n",
      "             pip install requests_html\n",
      "             \n",
      "             After installation, you may have to restart your Python session.\n"
     ]
    }
   ],
   "source": [
    "import sys\n",
    "import os\n",
    "sys.path.append(os.path.abspath(\"../backend\"))\n",
    "\n",
    "from utils.api_data_fetcher import API_Fetcher\n",
    "import asyncio\n",
    "import yfinance as yf\n",
    "import pandas as pd\n",
    "from statsforecast import StatsForecast\n",
    "from statsforecast.models import ARIMA\n",
    "from datetime import datetime\n",
    "from neuralforecast import NeuralForecast\n",
    "from neuralforecast.models import RNN, NHITS\n",
    "import ipywidgets as widgets\n",
    "from IPython.display import display\n"
   ]
  },
  {
   "cell_type": "markdown",
   "metadata": {},
   "source": [
    "## Async Context: fetch all important tickers"
   ]
  },
  {
   "cell_type": "code",
   "execution_count": null,
   "metadata": {},
   "outputs": [],
   "source": [
    "fetcher = API_Fetcher()\n",
    "tickers = await fetcher.fetch_all_major_indices()\n"
   ]
  },
  {
   "cell_type": "markdown",
   "metadata": {},
   "source": [
    "## Dropdown-Widget\n",
    "\n",
    "Please select one of the tickers in the drop down list."
   ]
  },
  {
   "cell_type": "code",
   "execution_count": null,
   "metadata": {},
   "outputs": [
    {
     "data": {
      "application/vnd.jupyter.widget-view+json": {
       "model_id": "9cf8a2bf300643a3becbc0178a7797cd",
       "version_major": 2,
       "version_minor": 0
      },
      "text/plain": [
       "Dropdown(description='Ticker:', options=('AAPL', 'AMGN', 'AMZN', 'AXP', 'BA', 'CAT', 'CRM', 'CSCO', 'CVX', 'DI…"
      ]
     },
     "metadata": {},
     "output_type": "display_data"
    }
   ],
   "source": [
    "ticker_dropdown = widgets.Dropdown(\n",
    "    options=tickers,\n",
    "    description='Ticker:',\n",
    "    value='AAPL',\n",
    "    style={'description_width': 'initial'}\n",
    ")\n",
    "\n",
    "display(ticker_dropdown)\n"
   ]
  },
  {
   "cell_type": "markdown",
   "metadata": {},
   "source": [
    "## Get historical data for selected ticker"
   ]
  },
  {
   "cell_type": "code",
   "execution_count": 8,
   "metadata": {},
   "outputs": [],
   "source": [
    "selected_ticker = ticker_dropdown.value\n",
    "data = await fetcher.fetch_selected_stock_data_yf(selected_ticker)"
   ]
  },
  {
   "cell_type": "markdown",
   "metadata": {},
   "source": [
    "\n",
    "## Historical price trends\n"
   ]
  },
  {
   "cell_type": "code",
   "execution_count": 9,
   "metadata": {},
   "outputs": [
    {
     "data": {
      "text/plain": [
       "Date\n",
       "2015-06-01 00:00:00-04:00    28.128998\n",
       "2015-07-01 00:00:00-04:00    27.202801\n",
       "2015-08-01 00:00:00-04:00    25.287622\n",
       "2015-09-01 00:00:00-04:00    24.847908\n",
       "2015-10-01 00:00:00-04:00    26.920437\n",
       "Name: Close, dtype: float64"
      ]
     },
     "execution_count": 9,
     "metadata": {},
     "output_type": "execute_result"
    }
   ],
   "source": [
    "data['price_history'].head()"
   ]
  },
  {
   "cell_type": "markdown",
   "metadata": {},
   "source": [
    "\n",
    "# Data preparation"
   ]
  },
  {
   "cell_type": "code",
   "execution_count": null,
   "metadata": {},
   "outputs": [],
   "source": [
    "df = data['price_history'].reset_index() \n",
    "df.columns = ['ds', 'y']  # Rename columns to match Nixtla's required format, 'ds' = datetime and 'y' = value\n",
    "df['unique_id'] = selected_ticker  # Important for multi-series models in Nixtla\n",
    " \n",
    "# Add features to the DataFrame\n",
    "df['recommendation'] = 1 if data['recommendation_key'] == 'buy' else 0 # Binary Feature\n",
    "df['eps_forward'] = data['eps_forward']\n",
    "df['revenue_growth'] = data['revenue_growth']\n",
    "df['recommendation_mean'] = data['recommendation_mean']\n",
    "df['gross_margins'] = data['gross_margins']\n",
    "df['dividend_yield'] = data['dividend_yield']\n",
    "df['debt_to_equity'] = data['debt_to_equity']\n",
    "\n",
    "df.tail()\n"
   ]
  },
  {
   "cell_type": "markdown",
   "metadata": {},
   "source": [
    "# Model training & forecast"
   ]
  },
  {
   "cell_type": "code",
   "execution_count": null,
   "metadata": {},
   "outputs": [
    {
     "name": "stderr",
     "output_type": "stream",
     "text": [
      "Seed set to 1\n",
      "GPU available: False, used: False\n",
      "TPU available: False, using: 0 TPU cores\n",
      "HPU available: False, using: 0 HPUs\n",
      "\n",
      "  | Name         | Type          | Params | Mode \n",
      "-------------------------------------------------------\n",
      "0 | loss         | MAE           | 0      | train\n",
      "1 | padder_train | ConstantPad1d | 0      | train\n",
      "2 | scaler       | TemporalNorm  | 0      | train\n",
      "3 | hist_encoder | RNN           | 49.8 K | train\n",
      "4 | mlp_decoder  | MLP           | 16.6 K | train\n",
      "-------------------------------------------------------\n",
      "66.4 K    Trainable params\n",
      "0         Non-trainable params\n",
      "66.4 K    Total params\n",
      "0.266     Total estimated model params size (MB)\n",
      "10        Modules in train mode\n",
      "0         Modules in eval mode\n"
     ]
    },
    {
     "data": {
      "application/vnd.jupyter.widget-view+json": {
       "model_id": "14c239ef0e7b4eab9194daf5067cbc19",
       "version_major": 2,
       "version_minor": 0
      },
      "text/plain": [
       "Sanity Checking: |          | 0/? [00:00<?, ?it/s]"
      ]
     },
     "metadata": {},
     "output_type": "display_data"
    },
    {
     "data": {
      "application/vnd.jupyter.widget-view+json": {
       "model_id": "2a8e5d3d2c044282b63bfd4a13482184",
       "version_major": 2,
       "version_minor": 0
      },
      "text/plain": [
       "Training: |          | 0/? [00:00<?, ?it/s]"
      ]
     },
     "metadata": {},
     "output_type": "display_data"
    },
    {
     "data": {
      "application/vnd.jupyter.widget-view+json": {
       "model_id": "e2480c6216ac4ea499f4a5d0a207e028",
       "version_major": 2,
       "version_minor": 0
      },
      "text/plain": [
       "Validation: |          | 0/? [00:00<?, ?it/s]"
      ]
     },
     "metadata": {},
     "output_type": "display_data"
    },
    {
     "name": "stderr",
     "output_type": "stream",
     "text": [
      "`Trainer.fit` stopped: `max_steps=100` reached.\n",
      "c:\\Users\\User\\AppData\\Local\\Programs\\Python\\Python311\\Lib\\site-packages\\utilsforecast\\processing.py:384: FutureWarning: 'M' is deprecated and will be removed in a future version, please use 'ME' instead.\n",
      "  freq = pd.tseries.frequencies.to_offset(freq)\n",
      "c:\\Users\\User\\AppData\\Local\\Programs\\Python\\Python311\\Lib\\site-packages\\utilsforecast\\processing.py:440: FutureWarning: 'M' is deprecated and will be removed in a future version, please use 'ME' instead.\n",
      "  freq = pd.tseries.frequencies.to_offset(freq)\n",
      "GPU available: False, used: False\n",
      "TPU available: False, using: 0 TPU cores\n",
      "HPU available: False, using: 0 HPUs\n"
     ]
    },
    {
     "data": {
      "application/vnd.jupyter.widget-view+json": {
       "model_id": "a7762caf4fdc4b599fde2323e61e094d",
       "version_major": 2,
       "version_minor": 0
      },
      "text/plain": [
       "Predicting: |          | 0/? [00:00<?, ?it/s]"
      ]
     },
     "metadata": {},
     "output_type": "display_data"
    },
    {
     "data": {
      "text/html": [
       "<div>\n",
       "<style scoped>\n",
       "    .dataframe tbody tr th:only-of-type {\n",
       "        vertical-align: middle;\n",
       "    }\n",
       "\n",
       "    .dataframe tbody tr th {\n",
       "        vertical-align: top;\n",
       "    }\n",
       "\n",
       "    .dataframe thead th {\n",
       "        text-align: right;\n",
       "    }\n",
       "</style>\n",
       "<table border=\"1\" class=\"dataframe\">\n",
       "  <thead>\n",
       "    <tr style=\"text-align: right;\">\n",
       "      <th></th>\n",
       "      <th>unique_id</th>\n",
       "      <th>ds</th>\n",
       "      <th>RNN</th>\n",
       "    </tr>\n",
       "  </thead>\n",
       "  <tbody>\n",
       "    <tr>\n",
       "      <th>0</th>\n",
       "      <td>AAPL</td>\n",
       "      <td>2025-05-31 00:00:00-04:00</td>\n",
       "      <td>256.806641</td>\n",
       "    </tr>\n",
       "    <tr>\n",
       "      <th>1</th>\n",
       "      <td>AAPL</td>\n",
       "      <td>2025-06-30 00:00:00-04:00</td>\n",
       "      <td>250.945084</td>\n",
       "    </tr>\n",
       "    <tr>\n",
       "      <th>2</th>\n",
       "      <td>AAPL</td>\n",
       "      <td>2025-07-31 00:00:00-04:00</td>\n",
       "      <td>236.336563</td>\n",
       "    </tr>\n",
       "    <tr>\n",
       "      <th>3</th>\n",
       "      <td>AAPL</td>\n",
       "      <td>2025-08-31 00:00:00-04:00</td>\n",
       "      <td>221.365433</td>\n",
       "    </tr>\n",
       "    <tr>\n",
       "      <th>4</th>\n",
       "      <td>AAPL</td>\n",
       "      <td>2025-09-30 00:00:00-04:00</td>\n",
       "      <td>229.515091</td>\n",
       "    </tr>\n",
       "  </tbody>\n",
       "</table>\n",
       "</div>"
      ],
      "text/plain": [
       "  unique_id                        ds         RNN\n",
       "0      AAPL 2025-05-31 00:00:00-04:00  256.806641\n",
       "1      AAPL 2025-06-30 00:00:00-04:00  250.945084\n",
       "2      AAPL 2025-07-31 00:00:00-04:00  236.336563\n",
       "3      AAPL 2025-08-31 00:00:00-04:00  221.365433\n",
       "4      AAPL 2025-09-30 00:00:00-04:00  229.515091"
      ]
     },
     "execution_count": 13,
     "metadata": {},
     "output_type": "execute_result"
    }
   ],
   "source": [
    "# Create a recurrent neural network for forecasting\n",
    "model = RNN(h=5, input_size=12, max_steps=100)\n",
    "\n",
    "nf = NeuralForecast(\n",
    "    models=[model],\n",
    "    freq='M'  # Monthly data\n",
    ")\n",
    "\n",
    "# Fit model on prepared dataset\n",
    "nf.fit(df=df)\n",
    "\n",
    "# Make prediction\n",
    "forecast = nf.predict()\n",
    "forecast.head()"
   ]
  },
  {
   "cell_type": "markdown",
   "metadata": {},
   "source": [
    "# Forecast analysis"
   ]
  },
  {
   "cell_type": "code",
   "execution_count": null,
   "metadata": {},
   "outputs": [
    {
     "name": "stdout",
     "output_type": "stream",
     "text": [
      "Current: 205.60, Forecast: 238.99, Change: 16.24%\n"
     ]
    }
   ],
   "source": [
    "# Last known real price\n",
    "current_price = df['y'].iloc[-1]\n",
    "\n",
    "# Average of the forecasted prices\n",
    "mean_forecast_price = forecast['RNN'].mean()\n",
    "\n",
    "# Calculate absolute and percentage difference\n",
    "price_diff = mean_forecast_price - current_price\n",
    "percent_change = (price_diff / current_price) * 100\n",
    "\n",
    "print(f\"Current: {current_price:.2f}, Forecast: {mean_forecast_price:.2f}, Change: {percent_change:.2f}%\")"
   ]
  },
  {
   "cell_type": "markdown",
   "metadata": {},
   "source": [
    "# Trading strategy"
   ]
  },
  {
   "cell_type": "code",
   "execution_count": 16,
   "metadata": {},
   "outputs": [
    {
     "name": "stdout",
     "output_type": "stream",
     "text": [
      "📈 BUY CALL: Expected increase of 16.24% - use possible opportunity!\n"
     ]
    }
   ],
   "source": [
    "def trading_strategy(percent_change):\n",
    "    if percent_change > 5:\n",
    "        return f\"📈 BUY CALL: Expected increase of {percent_change:.2f}% - use possible opportunity!\"\n",
    "    elif percent_change < -5:\n",
    "        return f\"📉 BUY PUT: Expected decrease of {abs(percent_change):. 2f}% - hedge risk!\"\n",
    "    elif -2 <= percent_change <= 2:\n",
    "        return f\"➖ HOLD / SELL COVERED CALL: Movement below 2% - sideways market.\"\n",
    "    else:\n",
    "        return f\"🔁 STRADDLE / SPREAD: Movement possible, direction unclear (±{percent_change:.2f}%)\"\n",
    "\n",
    "print(trading_strategy(percent_change))"
   ]
  }
 ],
 "metadata": {
  "kernelspec": {
   "display_name": "Python 3",
   "language": "python",
   "name": "python3"
  },
  "language_info": {
   "codemirror_mode": {
    "name": "ipython",
    "version": 3
   },
   "file_extension": ".py",
   "mimetype": "text/x-python",
   "name": "python",
   "nbconvert_exporter": "python",
   "pygments_lexer": "ipython3",
   "version": "3.11.5"
  }
 },
 "nbformat": 4,
 "nbformat_minor": 2
}
